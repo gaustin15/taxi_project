{
 "cells": [
  {
   "cell_type": "code",
   "execution_count": 1,
   "metadata": {},
   "outputs": [
    {
     "name": "stderr",
     "output_type": "stream",
     "text": [
      "/Users/george/anaconda2/lib/python2.7/site-packages/sklearn/ensemble/weight_boosting.py:29: DeprecationWarning: numpy.core.umath_tests is an internal NumPy module and should not be imported. It will be removed in a future NumPy release.\n",
      "  from numpy.core.umath_tests import inner1d\n"
     ]
    }
   ],
   "source": [
    "from google.cloud import bigquery\n",
    "import pandas as pd\n",
    "import seaborn as sns\n",
    "import matplotlib.pyplot as plt\n",
    "import numpy as np\n",
    "import os\n",
    "from sklearn.preprocessing import PolynomialFeatures\n",
    "from sklearn.ensemble import RandomForestRegressor\n",
    "from sklearn.linear_model import LinearRegression\n",
    "import datetime\n",
    "from sklearn import preprocessing\n",
    "\n",
    "\n",
    "pd.set_option('display.max_columns', 500)\n",
    "\n",
    "os.environ[\"GOOGLE_APPLICATION_CREDENTIALS\"]=\"/Users/george/Downloads/My First Project-8d2170533b7e.json\"\n",
    "client = bigquery.Client()"
   ]
  },
  {
   "cell_type": "markdown",
   "metadata": {},
   "source": [
    "## This notebook returns predictions ofn trip durations for NYC taxis. "
   ]
  },
  {
   "cell_type": "markdown",
   "metadata": {},
   "source": [
    "## Here's a quick summary of the preprocessing steps taken in the SQL query below:\n",
    "1. Decided to only incorporate cab rides that laster between 30 and 6500 seconds, decided anything that didnt fall under this category was probably an error in the reporting. \n",
    "2. Made sure the pickup and dropoff sports are not NULL\n",
    "3. made sure the locations were between 30 and 50 latitude, and -65 and -80 longitude. This is roughly the zone that new york is in, and there are a few zeros in the dataset that should be filtered out\n",
    "\n",
    "## Variables that were taken into account in the model\n",
    "1. euclidean distance (Haversine)\n",
    "2. pickup and dropoff lattitude and longitude\n",
    "3. time of day\n",
    "4. day the week\n",
    "5. precipiation from wheather data\n"
   ]
  },
  {
   "cell_type": "code",
   "execution_count": 3,
   "metadata": {},
   "outputs": [
    {
     "name": "stdout",
     "output_type": "stream",
     "text": [
      "done!\n"
     ]
    }
   ],
   "source": [
    "#SQL QUERY THAT MATCHES WHEATHER DATA\n",
    "query = (\n",
    "     '''SELECT * FROM\n",
    "(\n",
    "SELECT pickup_datetime, pickup_longitude, pickup_latitude, dropoff_longitude, dropoff_latitude,\n",
    "    TIMESTAMP_DIFF( dropoff_datetime, pickup_datetime, SECOND) as travel_time,\n",
    "     EXTRACT (DATE FROM pickup_datetime) as date_of_year,\n",
    "     EXTRACT (DAY FROM pickup_datetime) as day_of_year,\n",
    "     EXTRACT (MONTH FROM pickup_datetime) as month_of_year,\n",
    "     EXTRACT (YEAR FROM pickup_datetime) as year_of_year\n",
    " FROM `bigquery-public-data.new_york.tlc_yellow_trips_2016` as trips\n",
    "WHERE \n",
    "   (TIMESTAMP_DIFF( dropoff_datetime, pickup_datetime, SECOND) BETWEEN 30 AND 6500) AND\n",
    "    pickup_longitude IS NOT NULL AND\n",
    "    pickup_latitude IS NOT NULL AND\n",
    "  (pickup_latitude BETWEEN 30 AND 50) AND\n",
    "  (pickup_longitude BETWEEN -80 AND -65) AND\n",
    "  (dropoff_latitude BETWEEN 30 AND 50) AND\n",
    "  (dropoff_longitude BETWEEN -80 AND -65)\n",
    ")\n",
    "LEFT JOIN\n",
    "    (\n",
    "     SELECT concat(year,'-',mo,'-',da) as date_of_year2, prcp\n",
    "     from `bigquery-public-data.noaa_gsod.gsod2016` where stn='725053'\n",
    "    ) \n",
    "    on date_of_year2 = CAST( EXTRACT(DATE FROM pickup_datetime) as string )\n",
    "ORDER BY RAND()\n",
    "LIMIT 1000000\n",
    "'''\n",
    ")\n",
    "    \n",
    "df_raw=pd.io.gbq.read_gbq(query,dialect='standard')\n",
    "\n",
    "print('done!') \n",
    "\n"
   ]
  },
  {
   "cell_type": "code",
   "execution_count": 14,
   "metadata": {},
   "outputs": [
    {
     "name": "stdout",
     "output_type": "stream",
     "text": [
      "done!\n"
     ]
    }
   ],
   "source": [
    "#Import 2015 wheather data to join to test data\n",
    "\n",
    "query = (\n",
    "     '''\n",
    "SELECT concat(year,'-',mo,'-',da) as date, prcp\n",
    "     from `bigquery-public-data.noaa_gsod.gsod2015` where stn='725053'\n",
    "     ''' )\n",
    "    \n",
    "prcp2015 = pd.io.gbq.read_gbq(query,dialect='standard')\n",
    "    \n",
    "print('done!')"
   ]
  },
  {
   "cell_type": "markdown",
   "metadata": {},
   "source": [
    "## Since we are given the test data as a csv file, will load the wheather data via SQL query and then join it in python."
   ]
  },
  {
   "cell_type": "code",
   "execution_count": 25,
   "metadata": {},
   "outputs": [
    {
     "data": {
      "text/plain": [
       "(694047, 9)"
      ]
     },
     "execution_count": 25,
     "metadata": {},
     "output_type": "execute_result"
    }
   ],
   "source": [
    "test = pd.read_csv('APM4990_final_test_data_filtered.csv')\n",
    "test['pickup_datetime'] = pd.to_datetime(test['pickup_datetime'])\n",
    "test['total_minutes'] = test['pickup_datetime'].dt.hour*60 + test['pickup_datetime'].dt.minute\n",
    "test['date'] = test['pickup_datetime'].dt.hour\n",
    "\n",
    "#adding a date column to join with the wheather data\n",
    "test['date'] = test['pickup_datetime'].dt.date\n",
    "\n",
    "#will also find weekday for both df and test data using python dt function, to be consistent\n",
    "\n",
    "test['weekday'] = test['pickup_datetime'].dt.dayofweek\n",
    "\n",
    "np.shape(test)"
   ]
  },
  {
   "cell_type": "code",
   "execution_count": 8,
   "metadata": {},
   "outputs": [
    {
     "name": "stdout",
     "output_type": "stream",
     "text": [
      "(0, 9)\n",
      "(0, 9)\n",
      "(0, 9)\n"
     ]
    }
   ],
   "source": [
    "#checking to see if coodinate inputs are bad\n",
    "print np.shape( test[ test['pickup_latitude'] > 45 ] )\n",
    "print np.shape( test[ test['pickup_longitude'] > -65 ] )\n",
    "print np.shape( test[test['dropoff_latitude'] > 45 ] )\n",
    "\n",
    "#there were some issues with the unfiltered test data\n",
    "#those were fixed after all the predictions are calculated, the bad cases will have their predictions set to the median\n",
    "#there aren't many of these cases, so they won't have much of an impact of the median itself, if at all\n",
    "#will still keep that code in the cell just in case"
   ]
  },
  {
   "cell_type": "code",
   "execution_count": 26,
   "metadata": {},
   "outputs": [
    {
     "data": {
      "text/plain": [
       "(1000000, 15)"
      ]
     },
     "execution_count": 26,
     "metadata": {},
     "output_type": "execute_result"
    }
   ],
   "source": [
    "df  = df_raw\n",
    "\n",
    "#making a column of the time of day by minute, i.e. hour*60 + minute\n",
    "df['total_minutes'] = df['pickup_datetime'].dt.hour*60 + df['pickup_datetime'].dt.minute\n",
    "df['weekday'] = df['pickup_datetime'].dt.dayofweek\n",
    "\n",
    "np.shape(df)\n"
   ]
  },
  {
   "cell_type": "code",
   "execution_count": 10,
   "metadata": {},
   "outputs": [
    {
     "name": "stdout",
     "output_type": "stream",
     "text": [
      "2015-12-31\n",
      "2015-01-01\n"
     ]
    }
   ],
   "source": [
    "print max(test['date'])\n",
    "print min(test['date'])"
   ]
  },
  {
   "cell_type": "code",
   "execution_count": 27,
   "metadata": {},
   "outputs": [],
   "source": [
    "#getting the distances for both train and test data, using haversine distance formula, and\n",
    "#rounding earth's radius to 6371 km\n",
    "\n",
    "a = np.sin((df['dropoff_latitude'] - df['pickup_latitude'] )*np.pi/360.0 )**2 + \\\n",
    "        np.cos(df['pickup_latitude']) * np.cos(df['dropoff_latitude']) * \\\n",
    "           np.sin( (df['dropoff_longitude']-df['pickup_longitude'])*np.pi/360.0)**2\n",
    "           \n",
    "df['dist'] = 6371 * 2 * np.arcsin(np.sqrt(a)) * 1000 #converting to meters\n",
    "\n",
    "\n",
    "b = np.sin((test['dropoff_latitude'] - test['pickup_latitude'] )*np.pi/360.0 )**2 + \\\n",
    "        np.cos(test['pickup_latitude']) * np.cos(test['dropoff_latitude']) * \\\n",
    "           np.sin( (test['dropoff_longitude']-test['pickup_longitude'])*np.pi/360.0)**2\n",
    "        \n",
    "\n",
    "test['dist'] = 6371 * 2 * np.arcsin(np.sqrt(b)) * 1000 #converting to meters\n",
    "\n"
   ]
  },
  {
   "cell_type": "code",
   "execution_count": 30,
   "metadata": {},
   "outputs": [
    {
     "data": {
      "text/html": [
       "<div>\n",
       "<style scoped>\n",
       "    .dataframe tbody tr th:only-of-type {\n",
       "        vertical-align: middle;\n",
       "    }\n",
       "\n",
       "    .dataframe tbody tr th {\n",
       "        vertical-align: top;\n",
       "    }\n",
       "\n",
       "    .dataframe thead th {\n",
       "        text-align: right;\n",
       "    }\n",
       "</style>\n",
       "<table border=\"1\" class=\"dataframe\">\n",
       "  <thead>\n",
       "    <tr style=\"text-align: right;\">\n",
       "      <th></th>\n",
       "      <th>pickup_datetime</th>\n",
       "      <th>pickup_latitude</th>\n",
       "      <th>pickup_longitude</th>\n",
       "      <th>dropoff_latitude</th>\n",
       "      <th>dropoff_longitude</th>\n",
       "      <th>passenger_count</th>\n",
       "      <th>total_minutes</th>\n",
       "      <th>date</th>\n",
       "      <th>weekday</th>\n",
       "      <th>dist</th>\n",
       "      <th>prcp</th>\n",
       "    </tr>\n",
       "  </thead>\n",
       "  <tbody>\n",
       "  </tbody>\n",
       "</table>\n",
       "</div>"
      ],
      "text/plain": [
       "Empty DataFrame\n",
       "Columns: [pickup_datetime, pickup_latitude, pickup_longitude, dropoff_latitude, dropoff_longitude, passenger_count, total_minutes, date, weekday, dist, prcp]\n",
       "Index: []"
      ]
     },
     "execution_count": 30,
     "metadata": {},
     "output_type": "execute_result"
    }
   ],
   "source": [
    "#Joining wheather data to test data\n",
    "prcp2015['date'] = pd.to_datetime(prcp2015['date']).dt.date\n",
    "\n",
    "test = pd.merge(test, prcp2015, how='left', left_on = ['date'], right_on = ['date'] ).fillna(0)\n",
    "\n",
    "#checking to make sure the prcp values are ok\n",
    "test[ test['prcp'] > 3 ]\n"
   ]
  },
  {
   "cell_type": "code",
   "execution_count": 29,
   "metadata": {},
   "outputs": [
    {
     "data": {
      "text/html": [
       "<div>\n",
       "<style scoped>\n",
       "    .dataframe tbody tr th:only-of-type {\n",
       "        vertical-align: middle;\n",
       "    }\n",
       "\n",
       "    .dataframe tbody tr th {\n",
       "        vertical-align: top;\n",
       "    }\n",
       "\n",
       "    .dataframe thead th {\n",
       "        text-align: right;\n",
       "    }\n",
       "</style>\n",
       "<table border=\"1\" class=\"dataframe\">\n",
       "  <thead>\n",
       "    <tr style=\"text-align: right;\">\n",
       "      <th></th>\n",
       "      <th>pickup_datetime</th>\n",
       "      <th>pickup_longitude</th>\n",
       "      <th>pickup_latitude</th>\n",
       "      <th>dropoff_longitude</th>\n",
       "      <th>dropoff_latitude</th>\n",
       "      <th>travel_time</th>\n",
       "      <th>date_of_year</th>\n",
       "      <th>day_of_year</th>\n",
       "      <th>month_of_year</th>\n",
       "      <th>year_of_year</th>\n",
       "      <th>date_of_year2</th>\n",
       "      <th>prcp</th>\n",
       "      <th>total_minutes</th>\n",
       "      <th>weekday</th>\n",
       "      <th>dist</th>\n",
       "    </tr>\n",
       "  </thead>\n",
       "  <tbody>\n",
       "  </tbody>\n",
       "</table>\n",
       "</div>"
      ],
      "text/plain": [
       "Empty DataFrame\n",
       "Columns: [pickup_datetime, pickup_longitude, pickup_latitude, dropoff_longitude, dropoff_latitude, travel_time, date_of_year, day_of_year, month_of_year, year_of_year, date_of_year2, prcp, total_minutes, weekday, dist]\n",
       "Index: []"
      ]
     },
     "execution_count": 29,
     "metadata": {},
     "output_type": "execute_result"
    }
   ],
   "source": [
    "df[df['prcp'] > 3]"
   ]
  },
  {
   "cell_type": "code",
   "execution_count": 17,
   "metadata": {},
   "outputs": [
    {
     "name": "stdout",
     "output_type": "stream",
     "text": [
      "(694047, 11)\n"
     ]
    },
    {
     "data": {
      "text/html": [
       "<div>\n",
       "<style scoped>\n",
       "    .dataframe tbody tr th:only-of-type {\n",
       "        vertical-align: middle;\n",
       "    }\n",
       "\n",
       "    .dataframe tbody tr th {\n",
       "        vertical-align: top;\n",
       "    }\n",
       "\n",
       "    .dataframe thead th {\n",
       "        text-align: right;\n",
       "    }\n",
       "</style>\n",
       "<table border=\"1\" class=\"dataframe\">\n",
       "  <thead>\n",
       "    <tr style=\"text-align: right;\">\n",
       "      <th></th>\n",
       "      <th>pickup_datetime</th>\n",
       "      <th>pickup_latitude</th>\n",
       "      <th>pickup_longitude</th>\n",
       "      <th>dropoff_latitude</th>\n",
       "      <th>dropoff_longitude</th>\n",
       "      <th>passenger_count</th>\n",
       "      <th>total_minutes</th>\n",
       "      <th>date</th>\n",
       "      <th>weekday</th>\n",
       "      <th>dist</th>\n",
       "      <th>prcp</th>\n",
       "    </tr>\n",
       "  </thead>\n",
       "  <tbody>\n",
       "    <tr>\n",
       "      <th>0</th>\n",
       "      <td>2015-06-18 21:52:45+00:00</td>\n",
       "      <td>40.702740</td>\n",
       "      <td>-74.011650</td>\n",
       "      <td>40.773361</td>\n",
       "      <td>-73.990311</td>\n",
       "      <td>5</td>\n",
       "      <td>1312</td>\n",
       "      <td>2015-06-18</td>\n",
       "      <td>3</td>\n",
       "      <td>8199.384803</td>\n",
       "      <td>0.00</td>\n",
       "    </tr>\n",
       "    <tr>\n",
       "      <th>1</th>\n",
       "      <td>2015-11-08 02:22:25+00:00</td>\n",
       "      <td>40.733608</td>\n",
       "      <td>-74.003098</td>\n",
       "      <td>40.836803</td>\n",
       "      <td>-73.941643</td>\n",
       "      <td>1</td>\n",
       "      <td>142</td>\n",
       "      <td>2015-11-08</td>\n",
       "      <td>6</td>\n",
       "      <td>13345.370332</td>\n",
       "      <td>0.00</td>\n",
       "    </tr>\n",
       "    <tr>\n",
       "      <th>2</th>\n",
       "      <td>2015-02-13 04:11:11+00:00</td>\n",
       "      <td>40.730911</td>\n",
       "      <td>-74.001442</td>\n",
       "      <td>40.665699</td>\n",
       "      <td>-73.956909</td>\n",
       "      <td>1</td>\n",
       "      <td>251</td>\n",
       "      <td>2015-02-13</td>\n",
       "      <td>4</td>\n",
       "      <td>8751.087081</td>\n",
       "      <td>0.00</td>\n",
       "    </tr>\n",
       "    <tr>\n",
       "      <th>3</th>\n",
       "      <td>2015-07-23 09:14:04+00:00</td>\n",
       "      <td>40.774078</td>\n",
       "      <td>-73.874550</td>\n",
       "      <td>40.749939</td>\n",
       "      <td>-73.991203</td>\n",
       "      <td>2</td>\n",
       "      <td>554</td>\n",
       "      <td>2015-07-23</td>\n",
       "      <td>3</td>\n",
       "      <td>13205.844590</td>\n",
       "      <td>0.00</td>\n",
       "    </tr>\n",
       "    <tr>\n",
       "      <th>4</th>\n",
       "      <td>2015-01-07 18:06:43+00:00</td>\n",
       "      <td>40.791588</td>\n",
       "      <td>-73.964874</td>\n",
       "      <td>40.792084</td>\n",
       "      <td>-73.968254</td>\n",
       "      <td>2</td>\n",
       "      <td>1086</td>\n",
       "      <td>2015-01-07</td>\n",
       "      <td>2</td>\n",
       "      <td>379.399034</td>\n",
       "      <td>0.05</td>\n",
       "    </tr>\n",
       "  </tbody>\n",
       "</table>\n",
       "</div>"
      ],
      "text/plain": [
       "            pickup_datetime  pickup_latitude  pickup_longitude  \\\n",
       "0 2015-06-18 21:52:45+00:00        40.702740        -74.011650   \n",
       "1 2015-11-08 02:22:25+00:00        40.733608        -74.003098   \n",
       "2 2015-02-13 04:11:11+00:00        40.730911        -74.001442   \n",
       "3 2015-07-23 09:14:04+00:00        40.774078        -73.874550   \n",
       "4 2015-01-07 18:06:43+00:00        40.791588        -73.964874   \n",
       "\n",
       "   dropoff_latitude  dropoff_longitude  passenger_count  total_minutes  \\\n",
       "0         40.773361         -73.990311                5           1312   \n",
       "1         40.836803         -73.941643                1            142   \n",
       "2         40.665699         -73.956909                1            251   \n",
       "3         40.749939         -73.991203                2            554   \n",
       "4         40.792084         -73.968254                2           1086   \n",
       "\n",
       "         date  weekday          dist  prcp  \n",
       "0  2015-06-18        3   8199.384803  0.00  \n",
       "1  2015-11-08        6  13345.370332  0.00  \n",
       "2  2015-02-13        4   8751.087081  0.00  \n",
       "3  2015-07-23        3  13205.844590  0.00  \n",
       "4  2015-01-07        2    379.399034  0.05  "
      ]
     },
     "execution_count": 17,
     "metadata": {},
     "output_type": "execute_result"
    }
   ],
   "source": [
    "#if there are still some NA's from bad inputs, will set those to zero, and then set those predictions to the median values \n",
    "test = test.dropna()\n",
    "df = df.dropna()\n",
    "\n",
    "print np.shape(test)\n",
    "test.head()\n"
   ]
  },
  {
   "cell_type": "markdown",
   "metadata": {},
   "source": [
    "## Below is the cell that trains the model and makes the predictions on the test data"
   ]
  },
  {
   "cell_type": "code",
   "execution_count": 37,
   "metadata": {},
   "outputs": [],
   "source": [
    "columns = ['dist','prcp','total_minutes', 'weekday', 'pickup_latitude', 'pickup_longitude', 'dropoff_latitude', 'dropoff_longitude']\n",
    "\n",
    "deg = 1\n",
    "\n",
    "function = RandomForestRegressor(n_estimators = 50, max_depth = 30)\n",
    "\n",
    "\n",
    "def train_predictor(function, df, columns, deg):\n",
    "    y = df['travel_time']\n",
    "    X = df[columns]\n",
    "    \n",
    "    fit = function.fit(X, y)\n",
    "    fit_pred = fit.predict(X).reshape(-1, 1)\n",
    "    \n",
    "    model = LinearRegression(fit_intercept = True)\n",
    "    \n",
    "    #adding a polynomial fit to capture the dip in the trend\n",
    "    regr = model.fit( PolynomialFeatures(degree = deg).fit_transform(fit_pred), y )\n",
    "    #regr = model.fit(fit_pred, y_train)\n",
    "    \n",
    "    return(fit, regr)\n",
    "\n",
    "\n",
    "#fit, regr = train_predictor( function, df, columns, deg)\n",
    "\n",
    "\n",
    "def make_predictions(fit, regr, test, deg):\n",
    "    X = test[columns]\n",
    "    pred = regr.predict(PolynomialFeatures(degree = deg).fit_transform( fit.predict(X).reshape(-1,1)))\n",
    "    pred[pred < 20] = 45\n",
    "    \n",
    "    #then setting the entries with wrong lat/long coordinates to the median value\n",
    "    median = pd.DataFrame(pred).median()\n",
    "\n",
    "    pred[ test['pickup_latitude'] > 45 ] = median\n",
    "    pred[ test['pickup_latitude'] < 35 ] = median\n",
    "    pred[ test['dropoff_latitude'] > 45 ] = median\n",
    "    pred[ test['dropoff_latitude'] < 35 ] = median\n",
    "    pred[ test['pickup_longitude'] > -65 ] = median\n",
    "    pred[ test['pickup_longitude'] < -80 ] = median\n",
    "    pred[ test['dropoff_longitude'] > -65 ] = median\n",
    "    pred[ test['dropoff_longitude'] < -80 ] = median\n",
    "    \n",
    "    \n",
    "    return( pred )\n",
    "    \n",
    "    \n",
    "pred = make_predictions(fit, regr, test, deg) "
   ]
  },
  {
   "cell_type": "code",
   "execution_count": 18,
   "metadata": {},
   "outputs": [
    {
     "name": "stderr",
     "output_type": "stream",
     "text": [
      "/Users/george/anaconda2/lib/python2.7/site-packages/ipykernel_launcher.py:4: SettingWithCopyWarning: \n",
      "A value is trying to be set on a copy of a slice from a DataFrame.\n",
      "Try using .loc[row_indexer,col_indexer] = value instead\n",
      "\n",
      "See the caveats in the documentation: http://pandas.pydata.org/pandas-docs/stable/indexing.html#indexing-view-versus-copy\n",
      "  after removing the cwd from sys.path.\n"
     ]
    },
    {
     "data": {
      "image/png": "[encoded data removed]",
      "text/plain": [
       "<matplotlib.figure.Figure at 0x10b093e90>"
      ]
     },
     "metadata": {},
     "output_type": "display_data"
    }
   ],
   "source": [
    "import matplotlib.pyplot as plt\n",
    "x = test[:]\n",
    "\n",
    "x['pred'] = pred\n",
    "\n",
    "x = x[ x['dist'] < 200000 ]\n",
    "\n",
    "\n",
    "plt.figure(figsize=(6, 6))\n",
    "plt.title('Predictions vs Distance', fontsize=15)\n",
    "plt.xlabel('Distance', fontsize=10)\n",
    "plt.ylabel('Predictions (in s)', fontsize=10)\n",
    "plt.scatter( x['dist'], x['pred'] )\n",
    "plt.xlim((0, 100000))\n",
    "plt.show()\n"
   ]
  },
  {
   "cell_type": "code",
   "execution_count": 19,
   "metadata": {},
   "outputs": [
    {
     "data": {
      "image/png": "[encoded data removed]",
      "text/plain": [
       "<matplotlib.figure.Figure at 0x14050d450>"
      ]
     },
     "metadata": {},
     "output_type": "display_data"
    }
   ],
   "source": [
    "y = df[:]\n",
    "\n",
    "y = y[ y['dist'] < 200000 ]\n",
    "\n",
    "\n",
    "plt.figure(figsize=(6, 6))\n",
    "plt.title('Obersved vs Distance', fontsize=15)\n",
    "plt.xlabel('Distance', fontsize=10)\n",
    "plt.ylabel('trip time (in s)', fontsize=10)\n",
    "plt.scatter( y['dist'], y['travel_time'] )\n",
    "plt.xlim((0,100000))\n",
    "plt.show()"
   ]
  },
  {
   "cell_type": "markdown",
   "metadata": {},
   "source": [
    "## similar enough trends, but we can see the predictions data is 'skinnier' than the observed data. This makes sense, since there are plenty of factors that we're not capturing with this model, so the best we can do is make predictions towards the center of the trend in teh observed data."
   ]
  },
  {
   "cell_type": "markdown",
   "metadata": {},
   "source": [
    "## Now, adding the predictions column to the test data, and exporting it as a csv file"
   ]
  },
  {
   "cell_type": "code",
   "execution_count": 38,
   "metadata": {},
   "outputs": [],
   "source": [
    "test['predictions'] = pred\n",
    "\n",
    "test.to_csv('predictions.csv')"
   ]
  },
  {
   "cell_type": "code",
   "execution_count": 36,
   "metadata": {},
   "outputs": [
    {
     "data": {
      "text/html": [
       "<div>\n",
       "<style scoped>\n",
       "    .dataframe tbody tr th:only-of-type {\n",
       "        vertical-align: middle;\n",
       "    }\n",
       "\n",
       "    .dataframe tbody tr th {\n",
       "        vertical-align: top;\n",
       "    }\n",
       "\n",
       "    .dataframe thead th {\n",
       "        text-align: right;\n",
       "    }\n",
       "</style>\n",
       "<table border=\"1\" class=\"dataframe\">\n",
       "  <thead>\n",
       "    <tr style=\"text-align: right;\">\n",
       "      <th></th>\n",
       "      <th>pickup_datetime</th>\n",
       "      <th>pickup_latitude</th>\n",
       "      <th>pickup_longitude</th>\n",
       "      <th>dropoff_latitude</th>\n",
       "      <th>dropoff_longitude</th>\n",
       "      <th>passenger_count</th>\n",
       "      <th>total_minutes</th>\n",
       "      <th>date</th>\n",
       "      <th>weekday</th>\n",
       "      <th>dist</th>\n",
       "      <th>prcp</th>\n",
       "      <th>predictions</th>\n",
       "    </tr>\n",
       "  </thead>\n",
       "  <tbody>\n",
       "    <tr>\n",
       "      <th>0</th>\n",
       "      <td>2015-06-18 21:52:45+00:00</td>\n",
       "      <td>40.702740</td>\n",
       "      <td>-74.011650</td>\n",
       "      <td>40.773361</td>\n",
       "      <td>-73.990311</td>\n",
       "      <td>5</td>\n",
       "      <td>1312</td>\n",
       "      <td>2015-06-18</td>\n",
       "      <td>3</td>\n",
       "      <td>8199.384803</td>\n",
       "      <td>0.00</td>\n",
       "      <td>1459.910986</td>\n",
       "    </tr>\n",
       "    <tr>\n",
       "      <th>1</th>\n",
       "      <td>2015-11-08 02:22:25+00:00</td>\n",
       "      <td>40.733608</td>\n",
       "      <td>-74.003098</td>\n",
       "      <td>40.836803</td>\n",
       "      <td>-73.941643</td>\n",
       "      <td>1</td>\n",
       "      <td>142</td>\n",
       "      <td>2015-11-08</td>\n",
       "      <td>6</td>\n",
       "      <td>13345.370332</td>\n",
       "      <td>0.00</td>\n",
       "      <td>1493.241127</td>\n",
       "    </tr>\n",
       "    <tr>\n",
       "      <th>2</th>\n",
       "      <td>2015-02-13 04:11:11+00:00</td>\n",
       "      <td>40.730911</td>\n",
       "      <td>-74.001442</td>\n",
       "      <td>40.665699</td>\n",
       "      <td>-73.956909</td>\n",
       "      <td>1</td>\n",
       "      <td>251</td>\n",
       "      <td>2015-02-13</td>\n",
       "      <td>4</td>\n",
       "      <td>8751.087081</td>\n",
       "      <td>0.00</td>\n",
       "      <td>1225.459307</td>\n",
       "    </tr>\n",
       "    <tr>\n",
       "      <th>3</th>\n",
       "      <td>2015-07-23 09:14:04+00:00</td>\n",
       "      <td>40.774078</td>\n",
       "      <td>-73.874550</td>\n",
       "      <td>40.749939</td>\n",
       "      <td>-73.991203</td>\n",
       "      <td>2</td>\n",
       "      <td>554</td>\n",
       "      <td>2015-07-23</td>\n",
       "      <td>3</td>\n",
       "      <td>13205.844590</td>\n",
       "      <td>0.00</td>\n",
       "      <td>2474.077104</td>\n",
       "    </tr>\n",
       "    <tr>\n",
       "      <th>4</th>\n",
       "      <td>2015-01-07 18:06:43+00:00</td>\n",
       "      <td>40.791588</td>\n",
       "      <td>-73.964874</td>\n",
       "      <td>40.792084</td>\n",
       "      <td>-73.968254</td>\n",
       "      <td>2</td>\n",
       "      <td>1086</td>\n",
       "      <td>2015-01-07</td>\n",
       "      <td>2</td>\n",
       "      <td>379.399034</td>\n",
       "      <td>0.05</td>\n",
       "      <td>129.946421</td>\n",
       "    </tr>\n",
       "  </tbody>\n",
       "</table>\n",
       "</div>"
      ],
      "text/plain": [
       "            pickup_datetime  pickup_latitude  pickup_longitude  \\\n",
       "0 2015-06-18 21:52:45+00:00        40.702740        -74.011650   \n",
       "1 2015-11-08 02:22:25+00:00        40.733608        -74.003098   \n",
       "2 2015-02-13 04:11:11+00:00        40.730911        -74.001442   \n",
       "3 2015-07-23 09:14:04+00:00        40.774078        -73.874550   \n",
       "4 2015-01-07 18:06:43+00:00        40.791588        -73.964874   \n",
       "\n",
       "   dropoff_latitude  dropoff_longitude  passenger_count  total_minutes  \\\n",
       "0         40.773361         -73.990311                5           1312   \n",
       "1         40.836803         -73.941643                1            142   \n",
       "2         40.665699         -73.956909                1            251   \n",
       "3         40.749939         -73.991203                2            554   \n",
       "4         40.792084         -73.968254                2           1086   \n",
       "\n",
       "         date  weekday          dist  prcp  predictions  \n",
       "0  2015-06-18        3   8199.384803  0.00  1459.910986  \n",
       "1  2015-11-08        6  13345.370332  0.00  1493.241127  \n",
       "2  2015-02-13        4   8751.087081  0.00  1225.459307  \n",
       "3  2015-07-23        3  13205.844590  0.00  2474.077104  \n",
       "4  2015-01-07        2    379.399034  0.05   129.946421  "
      ]
     },
     "execution_count": 36,
     "metadata": {},
     "output_type": "execute_result"
    }
   ],
   "source": [
    "test.head()"
   ]
  },
  {
   "cell_type": "code",
   "execution_count": null,
   "metadata": {},
   "outputs": [],
   "source": []
  }
 ],
 "metadata": {
  "kernelspec": {
   "display_name": "Python 2",
   "language": "python",
   "name": "python2"
  },
  "language_info": {
   "codemirror_mode": {
    "name": "ipython",
    "version": 2
   },
   "file_extension": ".py",
   "mimetype": "text/x-python",
   "name": "python",
   "nbconvert_exporter": "python",
   "pygments_lexer": "ipython2",
   "version": "2.7.14"
  }
 },
 "nbformat": 4,
 "nbformat_minor": 2
}
